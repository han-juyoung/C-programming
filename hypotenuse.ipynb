{
  "nbformat": 4,
  "nbformat_minor": 0,
  "metadata": {
    "colab": {
      "name": "hypotenuse.ipynb",
      "provenance": [],
      "collapsed_sections": [],
      "authorship_tag": "ABX9TyP+6oEhWxXGRYbU3RVhMAqw",
      "include_colab_link": true
    },
    "kernelspec": {
      "name": "python3",
      "display_name": "Python 3"
    },
    "language_info": {
      "name": "python"
    }
  },
  "cells": [
    {
      "cell_type": "markdown",
      "metadata": {
        "id": "view-in-github",
        "colab_type": "text"
      },
      "source": [
        "<a href=\"https://colab.research.google.com/github/han-juyoung/C-programming/blob/main/hypotenuse.ipynb\" target=\"_parent\"><img src=\"https://colab.research.google.com/assets/colab-badge.svg\" alt=\"Open In Colab\"/></a>"
      ]
    },
    {
      "cell_type": "code",
      "metadata": {
        "colab": {
          "base_uri": "https://localhost:8080/"
        },
        "id": "uSqHctvGR_Rt",
        "outputId": "8f96b868-1376-49f5-95b4-88e9818ef09d"
      },
      "source": [
        "%%writefile cp_hypotenuse.c\n",
        "\n",
        "# /* 파일 설명 */\n",
        "# // 이름: hypotenuse.c\n",
        "# // C프로그래밍 과제#2-1\n",
        "# // 함수 구현 및 라이브러리 사용 실습\n",
        "\n",
        "# /* 프로그램 설명 */\n",
        "# // 직각 삼각형의 빗변이 아닌 두 변의 길이를 입력 받아\n",
        "# // 빗변의 길이를 출력하는 프로그램.\n",
        "# // 두 변의 길이는 정수로 입력 받고, 빗변의 길이는 실수로 출력된다.\n",
        "\n",
        "#include <stdio.h>\n",
        "#include <math.h>\n",
        "\n",
        "double calcHyp(int, int);\n",
        "long long power(int, int);\n",
        "\n",
        "int main(void) {\n",
        "\tint x, y;\n",
        "\tdouble result;\n",
        "\tprintf(\"빗변이 아닌 두 변의 길이를 입력하세요: \");\n",
        "\tscanf_s(\"%d %d\", &x, &y);\n",
        "\n",
        "\t// calcHyp 함수로 빗변 길이 구한 후 출력\n",
        "\t/* ### TODO ### */\n",
        "\tresult = calcHyp(x, y);\n",
        "\tprintf(\"빗변의 길이: %.3f\\n\", result);\n",
        "\n",
        "\treturn 0;\n",
        "}\n",
        "\n",
        "# // 빗변을 계산하는 함수\n",
        "# // 입출력: 두 변의 길이가 주어지면 빗변의 길이를 실수로 반환한다.\n",
        "double calcHyp(int a, int b)\n",
        "{\n",
        "\t/* ### TODO ### */\n",
        "\tdouble ar = power(a, 2);\n",
        "\tdouble br = power(b, 2);\n",
        "\tdouble c = ar + br;\n",
        "\treturn sqrt(c);\n",
        "\n",
        "}\n",
        "\n",
        "# // aⁿ을 계산하는 함수\n",
        "# // 입출력: 정수 a를 n번 제곱한 값을 반환한다.\n",
        "long long power(int a, int n)\n",
        "{\n",
        "\t/* ### TODO ### */\n",
        "\tdouble mul = 1;\n",
        "\tfor (int i = 0; i < n; i++)\n",
        "\t{\n",
        "\t\tmul = mul * a;\n",
        "\t}\n",
        "\treturn mul;\n",
        "\t//printf(\"%d의 %d 제곱 = %f\", a, n, mul);\n",
        "\n",
        "}"
      ],
      "execution_count": 14,
      "outputs": [
        {
          "output_type": "stream",
          "name": "stdout",
          "text": [
            "Overwriting cp_hypotenuse.c\n"
          ]
        }
      ]
    },
    {
      "cell_type": "code",
      "metadata": {
        "id": "5OjtTXLYS_sc"
      },
      "source": [
        "# %%shell \n",
        "\n",
        "# gcc cp_hypotenuse.c -o hout\n",
        "# ./hout"
      ],
      "execution_count": 15,
      "outputs": []
    },
    {
      "cell_type": "code",
      "metadata": {
        "id": "1Rn4EN9rTLx3"
      },
      "source": [
        ""
      ],
      "execution_count": null,
      "outputs": []
    }
  ]
}